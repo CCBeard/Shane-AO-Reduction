{
 "cells": [
  {
   "cell_type": "code",
   "execution_count": 1,
   "metadata": {},
   "outputs": [
    {
     "name": "stderr",
     "output_type": "stream",
     "text": [
      "WARNING: AstropyDeprecationWarning: block_reduce was moved to the astropy.nddata.blocks module.  Please update your import statement. [astropy.nddata.utils]\n",
      "WARNING: AstropyDeprecationWarning: block_replicate was moved to the astropy.nddata.blocks module.  Please update your import statement. [astropy.nddata.utils]\n"
     ]
    }
   ],
   "source": [
    "import os\n",
    "import numpy as np\n",
    "\n",
    "import matplotlib\n",
    "import matplotlib.pyplot as plt\n",
    "import matplotlib.gridspec as gridspec\n",
    "%matplotlib inline\n",
    "\n",
    "\n",
    "import glob\n",
    "from astropy.io import fits\n",
    "from astropy.stats import sigma_clip\n",
    "from scipy.ndimage import interpolation as interp\n",
    "\n",
    "#from skimage.feature.register_translation import (register_translation, _upsampled_dft)\n",
    "\n",
    "import aotools\n",
    "import astroscrappy\n",
    "from scipy.optimize import leastsq\n",
    "import ccdproc\n",
    "import math"
   ]
  },
  {
   "cell_type": "code",
   "execution_count": 2,
   "metadata": {},
   "outputs": [],
   "source": [
    "from scipy.ndimage.filters import median_filter, gaussian_filter\n",
    "def guess_gaussian_parameters(d):\n",
    "    \"\"\"\n",
    "    This image guesses the maximum intensity of the \n",
    "    image by obtaining a smoothed version of the image \n",
    "    via median + gaussian filtering. Then, finds the \n",
    "    maximum of the smoothed image. Using the median-filtered \n",
    "    image, the algorithm also estimates the width of the PSF and \n",
    "    with this value and an estimate of the volume, the amplitude of \n",
    "    such gaussian.\n",
    "\n",
    "    Input\n",
    "\n",
    "    d       Numpy array that contains the values of the pixels.\n",
    "\n",
    "    Output\n",
    "\n",
    "    x0      x coordinate of the image maximum\n",
    "    \n",
    "    y0      y coordinate of the image maximum\n",
    "\n",
    "    sigma   Width of the PSF\n",
    "\n",
    "    A       Estimated amplitude of the gaussian function\n",
    "    \"\"\"\n",
    "\n",
    "    # First, smooth the image with a median filter. For this, find \n",
    "    # the optimal window as the square-root of the geometric mean \n",
    "    # between the sizes of the array. This step is good to kill outliers:\n",
    "    window = int(np.sqrt(np.sqrt(d.shape[0]*d.shape[1])))\n",
    "    if window % 2 == 0:\n",
    "        window = window + 1 \n",
    "    \n",
    "\n",
    "    # Originally there was a median filter here, but it really adds a lot of time to the routine\n",
    "    #d_mfiltered = median_filter(d,size = window)\n",
    "    # Going to try without it to see if it makes a significant difference for vetoing\n",
    "    d_gfiltered = gaussian_filter(d,sigma = window)\n",
    "\n",
    "    # Now, find the maximum of this image:\n",
    "    y0, x0 = np.where(d_gfiltered == np.max(d_gfiltered))\n",
    "\n",
    "    # Take the first element. This helps in two cases: (1) only one maximum has \n",
    "    # been found, the outputs are numpy arrays and you want to extract the numbers \n",
    "    # and (2) in case there are several maximums (this has not happened so \n",
    "    # far but could in principle), pick the first of them:\n",
    "    y0 = y0[0]\n",
    "    x0 = x0[0]\n",
    "\n",
    "    # Now estimate the width of the PSF by taking a \"cross-plot\" using the \n",
    "    # maximum values found:\n",
    "    x_cut = d[:,int(x0)]\n",
    "    sigma_x = (np.sum(x_cut*(np.abs(np.arange(len(x_cut))-y0)))/np.sum(x_cut))/3.\n",
    "    y_cut = d[int(y0),:]\n",
    "    sigma_y = (np.sum(y_cut*(np.abs(np.arange(len(y_cut))-x0)))/np.sum(y_cut))/3.\n",
    "    sigma = np.sqrt(sigma_x*sigma_y)\n",
    "\n",
    "    # (Under) estimate amplitude assuming a gaussian function:\n",
    "    A = (np.sum(d-np.median(d))/(2.*np.pi*sigma**2))\n",
    "\n",
    "    return x0,y0,sigma,2.*A\n"
   ]
  },
  {
   "cell_type": "code",
   "execution_count": 4,
   "metadata": {},
   "outputs": [],
   "source": [
    "datadir = 'Raw_Data/Test_Data'\n",
    "os.chdir(datadir)\n",
    "\n",
    "#These are the id numbers of the fitz files\n",
    "firstID = 1;\n",
    "lastID = 9999;\n",
    "\n",
    "\n",
    "##Let's go through our images and remove the bad frames\n",
    "\n",
    "all_object_list = []\n",
    "\n",
    "veto_list = []\n",
    "\n",
    "#Let's just make a list of every object\n",
    "for ID in range(firstID, lastID+1):\n",
    "    try:\n",
    "        if ID < 100:\n",
    "            if ('s00'+str(ID)+'.fits'):\n",
    "                header = fits.getheader('s00'+str(ID)+'.fits')\n",
    "                obj = header['OBJECT']\n",
    "                all_object_list.append('s00'+str(ID)+'.fits')\n",
    "           \n",
    "            \n",
    "        elif 99 < ID < 1000:\n",
    "            if ('s0'+str(ID)+'.fits'):\n",
    "                header = fits.getheader('s0'+str(ID)+'.fits')\n",
    "                obj = header['OBJECT']\n",
    "                all_object_list.append('s0'+str(ID)+'.fits')\n",
    "            \n",
    "        elif 999 < ID < 10000:\n",
    "            if ('s'+str(ID)+'.fits'):\n",
    "                header = fits.getheader('s'+str(ID)+'.fits')\n",
    "                obj = header['OBJECT']\n",
    "                all_object_list.append('s'+str(ID)+'.fits')\n",
    "            \n",
    "    except OSError:\n",
    "            continue\n",
    "    except KeyError:\n",
    "            continue\n",
    "            \n",
    "\n",
    "flat_obj_list = []\n",
    "#let's remove the darks\n",
    "for object in all_object_list:\n",
    "    header = fits.getheader(object)\n",
    "    obj = header['OBJECT']\n",
    "    if obj == 'dark':\n",
    "        continue\n",
    "    else:\n",
    "        flat_obj_list.append(object)\n",
    "\n",
    "\n"
   ]
  },
  {
   "cell_type": "code",
   "execution_count": 5,
   "metadata": {},
   "outputs": [
    {
     "name": "stdout",
     "output_type": "stream",
     "text": [
      "s0115.fits\n",
      "Flat\n",
      "Flat!\n",
      "2622.997\n",
      "Appended!\n",
      "s0116.fits\n",
      "Flat\n",
      "Flat!\n",
      "6709.701\n",
      "s0117.fits\n",
      "Flat\n",
      "Flat!\n",
      "8897.531\n",
      "s0118.fits\n",
      "Flat\n",
      "Flat!\n",
      "8565.447\n",
      "s0119.fits\n",
      "Flat\n",
      "Flat!\n",
      "8262.968\n",
      "s0120.fits\n",
      "Flat\n",
      "Flat!\n",
      "7986.9897\n",
      "s0121.fits\n",
      "Flat\n",
      "Flat!\n",
      "7652.031\n",
      "s0122.fits\n",
      "Flat\n",
      "Flat!\n",
      "33371.902\n",
      "Appended!\n",
      "s0123.fits\n",
      "Flat\n",
      "Flat!\n",
      "15199.296\n",
      "s0124.fits\n",
      "Flat\n",
      "Flat!\n",
      "14220.693\n",
      "s0125.fits\n",
      "Flat\n",
      "Flat!\n",
      "13714.725\n",
      "s0126.fits\n",
      "Flat\n",
      "Flat!\n",
      "13190.419\n",
      "s0127.fits\n",
      "Flat\n",
      "Flat!\n",
      "12664.878\n",
      "s0128.fits\n",
      "Flat\n",
      "Flat!\n",
      "12146.717\n",
      "s0129.fits\n",
      "Seeing\n",
      "116.0\n",
      "105.0\n",
      "Appended!\n",
      "s0130.fits\n",
      "Seeing\n",
      "592.625\n",
      "631.375\n",
      "Appended!\n",
      "s0131.fits\n",
      "Seeing\n",
      "2582.9375\n",
      "2764.375\n",
      "Appended!\n",
      "s0134.fits\n",
      "Seeing\n",
      "289.0\n",
      "378.625\n",
      "Appended!\n",
      "s0135.fits\n",
      "Seeing\n",
      "518.5\n",
      "706.125\n",
      "Appended!\n",
      "s0136.fits\n",
      "Seeing\n",
      "657.5\n",
      "806.375\n",
      "Appended!\n",
      "s0138.fits\n",
      "Seeing\n",
      "628.5\n",
      "836.75\n",
      "Appended!\n",
      "s0142.fits\n",
      "Seeing\n",
      "924.0\n",
      "1042.75\n",
      "Appended!\n",
      "s0146.fits\n",
      "Seeing\n",
      "715.5\n",
      "955.625\n",
      "Appended!\n",
      "s0148.fits\n",
      "Seeing\n",
      "719.0\n",
      "881.25\n",
      "Appended!\n",
      "s0154.fits\n",
      "Seeing\n",
      "436.0\n",
      "569.25\n",
      "Appended!\n",
      "s0155.fits\n",
      "Seeing\n",
      "556.0\n",
      "734.0\n",
      "Appended!\n",
      "s0157.fits\n",
      "Seeing\n",
      "738.0\n",
      "1062.125\n",
      "Appended!\n",
      "s0161.fits\n",
      "Seeing\n",
      "439.5\n",
      "535.625\n",
      "Appended!\n",
      "s0163.fits\n",
      "Seeing\n",
      "656.0\n",
      "835.125\n",
      "Appended!\n",
      "s0165.fits\n",
      "Seeing\n",
      "607.0\n",
      "815.75\n",
      "Appended!\n",
      "s0170.fits\n",
      "Seeing\n",
      "324.5\n",
      "427.625\n",
      "Appended!\n",
      "s0173.fits\n",
      "Seeing\n",
      "789.0\n",
      "1006.125\n",
      "Appended!\n",
      "s0174.fits\n",
      "Seeing\n",
      "424.0\n",
      "540.0\n",
      "Appended!\n",
      "s0175.fits\n",
      "Seeing\n",
      "819.0\n",
      "1060.75\n",
      "Appended!\n",
      "s0197.fits\n",
      "Seeing\n",
      "480.5\n",
      "537.625\n",
      "Appended!\n",
      "s0204.fits\n",
      "172370679\n",
      "11428.5\n",
      "11765.609\n",
      "s0207.fits\n",
      "172370679\n",
      "16280.8125\n",
      "16653.719\n",
      "s0208.fits\n",
      "172370679\n",
      "16212.094\n",
      "16597.156\n",
      "s0210.fits\n",
      "172370679\n",
      "13755.4375\n",
      "14199.0625\n",
      "s0216.fits\n",
      "172370679\n",
      "14673.0\n",
      "15300.75\n",
      "s0218.fits\n",
      "172370679\n",
      "13895.594\n",
      "14464.547\n",
      "s0219.fits\n",
      "172370679\n",
      "13863.656\n",
      "14810.609\n",
      "s0221.fits\n",
      "172370679\n",
      "12946.844\n",
      "13051.859\n",
      "s0222.fits\n",
      "172370679\n",
      "13003.375\n",
      "13411.047\n"
     ]
    }
   ],
   "source": [
    "#Now we go through each object here, and we make a list of all the bad ones\n",
    "\n",
    "veto_list = []\n",
    "\n",
    "for obj in flat_obj_list:\n",
    "    header = fits.getheader(obj)\n",
    "    try:\n",
    "\n",
    "        image_data = fits.getdata(obj)\n",
    "        image_window = image_data[400:1000,850:1450]#we use the window we care about\n",
    "        \n",
    "        print(obj)\n",
    "        print(header['OBJECT'])\n",
    "        if 'flat' in header['OBJECT'].lower():\n",
    "            cent_counts = np.mean(image_window)\n",
    "            print('Flat!')\n",
    "        else:\n",
    "        \n",
    "            x0,y0,sigma,A = guess_gaussian_parameters(image_window)#need to do this for the window, not the whole image\n",
    "            \n",
    "            print(image_window[y0,x0])\n",
    "            #now that we have the centroid, let's make a window about the centroid, and take the average\n",
    "            centroid_window = image_window[y0-1:y0+1,x0-1:x0+1]\n",
    "            cent_counts = np.mean(centroid_window)#let's try max instead of mean\n",
    "            \n",
    "        print(cent_counts)\n",
    "    \n",
    "        if cent_counts > 25000: #Setting our max counts at 25000 here\n",
    "            veto_list.append(obj)\n",
    "            print('Appended!')\n",
    "        elif cent_counts < 6500: #Setting our minimum counts at 6500 here\n",
    "            veto_list.append(obj)\n",
    "            print('Appended!')\n",
    "        elif math.isnan(cent_counts) == True:\n",
    "            veto_list.append(obj)\n",
    "            print('Appended!')\n",
    "        else:\n",
    "            continue\n",
    "    except ValueError:\n",
    "        continue\n",
    "\n",
    "\n",
    "#Just median filter: ~94 s, appears accurate\n",
    "#Just Gaussian filter: ~ 1 s, appears accurate\n",
    "\n"
   ]
  },
  {
   "cell_type": "code",
   "execution_count": 5,
   "metadata": {},
   "outputs": [],
   "source": [
    "#Write it to a text file for later\n",
    "with open('veto_list.txt', 'w') as f:\n",
    "    for item in veto_list:\n",
    "        f.write(\"%s\\n\" % item)"
   ]
  },
  {
   "cell_type": "code",
   "execution_count": 6,
   "metadata": {},
   "outputs": [
    {
     "name": "stdout",
     "output_type": "stream",
     "text": [
      "['s0067.fits', 's0068.fits', 's0084.fits', 's0085.fits', 's0087.fits', 's0088.fits', 's0089.fits', 's0090.fits', 's0091.fits', 's0092.fits', 's0093.fits', 's0094.fits', 's0095.fits', 's0096.fits', 's0154.fits', 's0155.fits', 's0158.fits', 's0160.fits', 's0161.fits', 's0162.fits', 's0163.fits', 's0164.fits', 's0165.fits', 's0166.fits', 's0167.fits', 's0168.fits', 's0170.fits', 's0172.fits', 's0173.fits', 's0174.fits', 's0177.fits', 's0178.fits', 's0179.fits', 's0180.fits', 's0181.fits', 's0182.fits', 's0183.fits', 's0184.fits', 's0185.fits', 's0186.fits', 's0187.fits', 's0189.fits', 's0191.fits', 's0194.fits', 's0203.fits', 's0204.fits', 's0210.fits', 's0212.fits', 's0213.fits', 's0214.fits', 's0216.fits', 's0217.fits', 's0218.fits', 's0219.fits', 's0220.fits', 's0221.fits', 's0222.fits', 's0223.fits', 's0224.fits', 's0225.fits', 's0226.fits', 's0227.fits', 's0231.fits', 's0232.fits', 's0233.fits', 's0234.fits', 's0237.fits', 's0238.fits', 's0241.fits', 's0244.fits', 's0245.fits', 's0246.fits', 's0247.fits', 's0248.fits', 's0251.fits', 's0265.fits', 's0266.fits', 's0267.fits', 's0275.fits', 's0276.fits', 's0277.fits', 's0278.fits', 's0281.fits', 's0282.fits', 's0283.fits', 's0284.fits', 's0285.fits', 's0286.fits', 's0287.fits', 's0288.fits', 's0289.fits', 's0291.fits', 's0294.fits', 's0295.fits', 's0296.fits', 's0297.fits', 's0298.fits', 's0306.fits', 's0307.fits', 's0308.fits', 's0315.fits', 's0316.fits', 's0317.fits', 's0318.fits', 's0319.fits', 's0321.fits', 's0322.fits', 's0323.fits', 's0324.fits', 's0325.fits', 's0326.fits', 's0328.fits', 's0333.fits', 's0334.fits', 's0335.fits', 's0338.fits', 's0343.fits', 's0345.fits', 's0346.fits', 's0347.fits', 's0348.fits', 's0349.fits', 's0350.fits', 's0351.fits', 's0352.fits', 's0353.fits', 's0354.fits', 's0355.fits', 's0356.fits', 's0358.fits', 's0359.fits', 's0362.fits', 's0365.fits', 's0368.fits', 's0369.fits', 's0371.fits', 's0373.fits', 's0374.fits', 's0377.fits', 's0378.fits', 's0387.fits', 's0390.fits', 's0391.fits', 's0392.fits', 's0395.fits', 's0399.fits', 's0401.fits', 's0402.fits', 's0403.fits', 's0404.fits', 's0405.fits', 's0408.fits', 's0409.fits', 's0416.fits', 's0417.fits', 's0418.fits', 's0421.fits', 's0423.fits', 's0425.fits', 's0427.fits', 's0429.fits', 's0430.fits', 's0431.fits', 's0432.fits', 's0439.fits', 's0440.fits', 's0441.fits', 's0442.fits', 's0443.fits', 's0444.fits', 's0445.fits', 's0446.fits', 's0447.fits', 's0448.fits', 's0449.fits', 's0450.fits', 's0451.fits', 's0452.fits', 's0453.fits', 's0454.fits', 's0455.fits', 's0456.fits', 's0457.fits', 's0458.fits', 's0459.fits', 's0460.fits', 's0461.fits', 's0462.fits', 's0463.fits', 's0464.fits', 's0465.fits', 's0466.fits', 's0467.fits', 's0468.fits', 's0469.fits', 's0470.fits', 's0474.fits', 's0475.fits', 's0476.fits', 's0490.fits', 's0517.fits', 's0518.fits', 's0519.fits', 's0560.fits', 's0561.fits', 's0562.fits', 's0581.fits', 's0603.fits', 's0604.fits', 's0605.fits', 's0632.fits', 's0633.fits', 's0634.fits', 's0635.fits', 's0636.fits', 's0637.fits', 's0638.fits', 's0639.fits', 's0640.fits', 's0642.fits', 's0643.fits', 's0645.fits', 's0646.fits', 's0647.fits', 's0648.fits', 's0649.fits', 's0650.fits', 's0651.fits', 's0652.fits', 's0657.fits', 's0658.fits', 's0660.fits', 's0662.fits', 's0663.fits', 's0664.fits', 's0665.fits', 's0666.fits', 's0667.fits', 's0668.fits', 's0669.fits', 's0670.fits', 's0671.fits', 's0672.fits', 's0673.fits', 's0674.fits', 's0675.fits', 's0676.fits', 's0677.fits', 's0678.fits', 's0679.fits', 's0680.fits', 's0681.fits', 's0682.fits', 's0683.fits', 's0684.fits', 's0685.fits', 's0686.fits', 's0687.fits', 's0688.fits', 's0689.fits', 's0690.fits', 's0691.fits', 's0697.fits', 's0698.fits', 's0702.fits', 's0703.fits', 's0704.fits', 's0705.fits', 's0706.fits', 's0707.fits', 's0708.fits', 's0709.fits', 's0710.fits', 's0711.fits', 's0712.fits', 's0713.fits', 's0714.fits', 's0715.fits', 's0716.fits', 's0717.fits', 's0718.fits', 's0719.fits', 's0720.fits', 's0721.fits', 's0729.fits', 's0730.fits', 's0733.fits', 's0734.fits', 's0735.fits', 's0736.fits', 's0737.fits', 's0738.fits', 's0739.fits', 's0741.fits', 's0742.fits', 's0749.fits', 's0750.fits', 's0752.fits', 's0753.fits', 's0754.fits', 's0755.fits', 's0759.fits', 's0760.fits', 's0761.fits', 's0763.fits', 's0766.fits', 's0776.fits', 's0777.fits', 's0778.fits', 's0779.fits', 's0780.fits', 's0781.fits', 's0782.fits', 's0783.fits', 's0784.fits', 's0785.fits', 's0786.fits', 's0787.fits', 's0788.fits', 's0789.fits', 's0790.fits', 's0791.fits', 's0792.fits', 's0793.fits', 's0794.fits', 's0795.fits', 's0796.fits', 's0797.fits', 's0798.fits', 's0799.fits', 's0800.fits', 's0801.fits', 's0802.fits', 's0803.fits', 's0804.fits', 's0805.fits', 's0806.fits', 's0807.fits', 's0808.fits', 's0809.fits', 's0810.fits', 's0811.fits', 's0812.fits', 's0813.fits', 's0814.fits']\n"
     ]
    }
   ],
   "source": [
    "print(veto_list)"
   ]
  },
  {
   "cell_type": "code",
   "execution_count": 4,
   "metadata": {},
   "outputs": [],
   "source": [
    "os.chdir('/media/corey/Big_Boi/Paul_Project/191020/')\n",
    "image_data = fits.getdata('TIC375542276_finalKs.fits')\n",
    "\n",
    "image_window = image_data[400:1000,850:1450]"
   ]
  },
  {
   "cell_type": "code",
   "execution_count": 7,
   "metadata": {},
   "outputs": [
    {
     "data": {
      "text/plain": [
       "Text(0.5, 1.0, 'Image')"
      ]
     },
     "execution_count": 7,
     "metadata": {},
     "output_type": "execute_result"
    },
    {
     "data": {
      "image/png": "[encoded data removed]",
      "text/plain": [
       "<Figure size 1080x1080 with 1 Axes>"
      ]
     },
     "metadata": {
      "needs_background": "light"
     },
     "output_type": "display_data"
    }
   ],
   "source": [
    "plt.figure(figsize=(15,15))\n",
    "plt.imshow((image_data), origin='lower', cmap='gray')\n",
    "plt.title('Image')\n"
   ]
  },
  {
   "cell_type": "code",
   "execution_count": 13,
   "metadata": {},
   "outputs": [
    {
     "name": "stdout",
     "output_type": "stream",
     "text": [
      "0\n"
     ]
    },
    {
     "data": {
      "image/png": "[encoded data removed]",
      "text/plain": [
       "<Figure size 432x288 with 1 Axes>"
      ]
     },
     "metadata": {
      "needs_background": "light"
     },
     "output_type": "display_data"
    }
   ],
   "source": [
    "plt.plot(image_window[350])\n",
    "plt.ylim(5000,10000)\n",
    "print(x0)"
   ]
  },
  {
   "cell_type": "code",
   "execution_count": 36,
   "metadata": {},
   "outputs": [],
   "source": [
    "ylist = []\n",
    "for a in range(len(image_window[y0])):\n",
    "    ylist.append(image_window[a,x0])\n",
    "    "
   ]
  },
  {
   "cell_type": "code",
   "execution_count": 37,
   "metadata": {},
   "outputs": [
    {
     "name": "stdout",
     "output_type": "stream",
     "text": [
      "363\n"
     ]
    },
    {
     "data": {
      "image/png": "[encoded data removed]",
      "text/plain": [
       "<Figure size 432x288 with 1 Axes>"
      ]
     },
     "metadata": {
      "needs_background": "light"
     },
     "output_type": "display_data"
    }
   ],
   "source": [
    "plt.plot(ylist)\n",
    "print(y0)"
   ]
  },
  {
   "cell_type": "code",
   "execution_count": 46,
   "metadata": {},
   "outputs": [
    {
     "data": {
      "text/plain": [
       "array([[518.0625, 523.6875],\n",
       "       [501.5625, 524.0625]], dtype=float32)"
      ]
     },
     "execution_count": 46,
     "metadata": {},
     "output_type": "execute_result"
    }
   ],
   "source": [
    "image_window[1:3,1:3]"
   ]
  },
  {
   "cell_type": "code",
   "execution_count": 15,
   "metadata": {},
   "outputs": [
    {
     "ename": "IndexError",
     "evalue": "invalid index to scalar variable.",
     "output_type": "error",
     "traceback": [
      "\u001b[0;31m---------------------------------------------------------------------------\u001b[0m",
      "\u001b[0;31mIndexError\u001b[0m                                Traceback (most recent call last)",
      "\u001b[0;32m<ipython-input-15-fa326dc51017>\u001b[0m in \u001b[0;36m<module>\u001b[0;34m\u001b[0m\n\u001b[0;32m----> 1\u001b[0;31m \u001b[0mnp\u001b[0m\u001b[0;34m.\u001b[0m\u001b[0mmean\u001b[0m\u001b[0;34m(\u001b[0m\u001b[0mimage_window\u001b[0m\u001b[0;34m[\u001b[0m\u001b[0my0\u001b[0m\u001b[0;34m]\u001b[0m\u001b[0;34m[\u001b[0m\u001b[0mx0\u001b[0m\u001b[0;34m]\u001b[0m\u001b[0;34m[\u001b[0m\u001b[0my0\u001b[0m\u001b[0;34m-\u001b[0m\u001b[0;36m10\u001b[0m\u001b[0;34m:\u001b[0m\u001b[0my0\u001b[0m\u001b[0;34m+\u001b[0m\u001b[0;36m10\u001b[0m\u001b[0;34m,\u001b[0m\u001b[0mx0\u001b[0m\u001b[0;34m-\u001b[0m\u001b[0;36m10\u001b[0m\u001b[0;34m:\u001b[0m\u001b[0mx0\u001b[0m\u001b[0;34m+\u001b[0m\u001b[0;36m10\u001b[0m\u001b[0;34m]\u001b[0m\u001b[0;34m)\u001b[0m\u001b[0;34m\u001b[0m\u001b[0;34m\u001b[0m\u001b[0m\n\u001b[0m",
      "\u001b[0;31mIndexError\u001b[0m: invalid index to scalar variable."
     ]
    }
   ],
   "source": [
    "np.mean(image_window[y0][x0][y0-10:y0+10,x0-10:x0+10])"
   ]
  },
  {
   "cell_type": "code",
   "execution_count": null,
   "metadata": {},
   "outputs": [],
   "source": [
    "np.where(image_data == np.max(image_data))"
   ]
  },
  {
   "cell_type": "code",
   "execution_count": null,
   "metadata": {},
   "outputs": [],
   "source": [
    "A"
   ]
  },
  {
   "cell_type": "code",
   "execution_count": 24,
   "metadata": {},
   "outputs": [
    {
     "name": "stdout",
     "output_type": "stream",
     "text": [
      "Filename: tess2019032160000-s0008-0000000001103432-0136-s_lc.fits\n",
      "No.    Name      Ver    Type      Cards   Dimensions   Format\n",
      "  0  PRIMARY       1 PrimaryHDU      44   ()      \n",
      "  1  LIGHTCURVE    1 BinTableHDU    167   17755R x 20C   [D, E, J, E, E, E, E, E, E, J, D, E, D, E, D, E, D, E, E, E]   \n",
      "  2  APERTURE      1 ImageHDU        49   (15, 15)   int32   \n",
      "[(1517.34623523, 0.00472201, 208718,       nan,      nan,      nan,       nan,       nan,       nan, 2232, nan, nan, nan, nan,           nan,        nan,          nan,        nan,         nan,        nan)\n",
      " (1517.34762413, 0.00472203, 208719,       nan,      nan,      nan,       nan,       nan,       nan, 2224, nan, nan, nan, nan,           nan,        nan,          nan,        nan,         nan,        nan)\n",
      " (1517.34901303, 0.00472204, 208720,       nan,      nan,      nan,       nan,       nan,       nan, 2096, nan, nan, nan, nan,           nan,        nan,          nan,        nan,         nan,        nan)\n",
      " ...\n",
      " (1542.00155077, 0.00449235, 226470, 1065.8456, 7.795287, 679.8668, 3.8381398, 1166.6649, 10.158788,    0, nan, nan, nan, nan, 1076.80733402, 0.00485384, 778.58698789, 0.00448325, -0.04798563, 0.02206424)\n",
      " (1542.00293961, 0.0044923 , 226471, 1068.6576, 7.79921 , 674.652 , 3.8550625, 1169.9042, 10.1639  ,    0, nan, nan, nan, nan, 1076.81669409, 0.00483036, 778.58136916, 0.00447694, -0.04382468, 0.01814948)\n",
      " (1542.00432846, 0.00449226, 226472, 1067.1997, 7.795664, 676.6095, 3.833279 , 1168.4277, 10.159279,    0, nan, nan, nan, nan, 1076.81309384, 0.00485045, 778.57912437, 0.00448526, -0.04782111, 0.01918632)]\n"
     ]
    },
    {
     "data": {
      "text/plain": [
       "[<matplotlib.lines.Line2D at 0x7f6774724208>]"
      ]
     },
     "execution_count": 24,
     "metadata": {},
     "output_type": "execute_result"
    },
    {
     "data": {
      "image/png": "[encoded data removed]",
      "text/plain": [
       "<Figure size 432x288 with 1 Axes>"
      ]
     },
     "metadata": {
      "needs_background": "light"
     },
     "output_type": "display_data"
    }
   ],
   "source": [
    "datadir = '/home/corey/Downloads/MAST_2019-07-22T2017/TESS/tess2019032160000-s0008-0000000001103432-0136-s'\n",
    "os.chdir(datadir)\n",
    "\n",
    "hdulist = fits.open('tess2019032160000-s0008-0000000001103432-0136-s_lc.fits')\n",
    "\n",
    "hdulist.info()\n",
    "\n",
    "image_data = hdulist[1].data\n",
    "\n",
    "\n",
    "print(image_data)\n",
    "plt.plot(image_data['TIME'],image_data['PDCSAP_FLUX'])"
   ]
  },
  {
   "cell_type": "code",
   "execution_count": null,
   "metadata": {},
   "outputs": [],
   "source": []
  }
 ],
 "metadata": {
  "kernelspec": {
   "display_name": "Python 3",
   "language": "python",
   "name": "python3"
  },
  "language_info": {
   "codemirror_mode": {
    "name": "ipython",
    "version": 3
   },
   "file_extension": ".py",
   "mimetype": "text/x-python",
   "name": "python",
   "nbconvert_exporter": "python",
   "pygments_lexer": "ipython3",
   "version": "3.6.10"
  }
 },
 "nbformat": 4,
 "nbformat_minor": 2
}
